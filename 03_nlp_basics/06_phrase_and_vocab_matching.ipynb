{
 "cells": [
  {
   "cell_type": "code",
   "execution_count": 1,
   "metadata": {},
   "outputs": [],
   "source": [
    "import spacy\n",
    "from spacy.matcher import Matcher\n",
    "\n",
    "import pandas as pd\n",
    "\n",
    "nlp = spacy.load('en_core_web_sm')"
   ]
  },
  {
   "attachments": {},
   "cell_type": "markdown",
   "metadata": {},
   "source": [
    "# Pattern Matching"
   ]
  },
  {
   "cell_type": "code",
   "execution_count": 2,
   "metadata": {},
   "outputs": [
    {
     "name": "stdout",
     "output_type": "stream",
     "text": [
      "[(8656102463236116519, 1, 3), (8656102463236116519, 8, 9), (8656102463236116519, 11, 14)]\n"
     ]
    },
    {
     "data": {
      "text/html": [
       "<div>\n",
       "<style scoped>\n",
       "    .dataframe tbody tr th:only-of-type {\n",
       "        vertical-align: middle;\n",
       "    }\n",
       "\n",
       "    .dataframe tbody tr th {\n",
       "        vertical-align: top;\n",
       "    }\n",
       "\n",
       "    .dataframe thead th {\n",
       "        text-align: right;\n",
       "    }\n",
       "</style>\n",
       "<table border=\"1\" class=\"dataframe\">\n",
       "  <thead>\n",
       "    <tr style=\"text-align: right;\">\n",
       "      <th></th>\n",
       "      <th>match</th>\n",
       "      <th>start</th>\n",
       "      <th>stop</th>\n",
       "    </tr>\n",
       "  </thead>\n",
       "  <tbody>\n",
       "    <tr>\n",
       "      <th>0</th>\n",
       "      <td>8656102463236116519</td>\n",
       "      <td>1</td>\n",
       "      <td>3</td>\n",
       "    </tr>\n",
       "    <tr>\n",
       "      <th>1</th>\n",
       "      <td>8656102463236116519</td>\n",
       "      <td>8</td>\n",
       "      <td>9</td>\n",
       "    </tr>\n",
       "    <tr>\n",
       "      <th>2</th>\n",
       "      <td>8656102463236116519</td>\n",
       "      <td>11</td>\n",
       "      <td>14</td>\n",
       "    </tr>\n",
       "  </tbody>\n",
       "</table>\n",
       "</div>"
      ],
      "text/plain": [
       "                 match  start  stop\n",
       "0  8656102463236116519      1     3\n",
       "1  8656102463236116519      8     9\n",
       "2  8656102463236116519     11    14"
      ]
     },
     "execution_count": 2,
     "metadata": {},
     "output_type": "execute_result"
    }
   ],
   "source": [
    "matcher = Matcher(nlp.vocab)\n",
    "\n",
    "patterns = []\n",
    "\n",
    "# SolarPower, solarpower, SOLARPOWER\n",
    "patterns.append([ \n",
    "        {'LOWER': 'solarpower'},\n",
    "    ])\n",
    "# SOLAR-POWER, Solar-power, solar-power\n",
    "patterns.append([\n",
    "    {'LOWER':'solar'}, \n",
    "    {'IS_PUNCT': True}, \n",
    "    {'LOWER': 'power'}\n",
    "])\n",
    "# Solar Power, solar power, Solar power\n",
    "patterns.append([\n",
    "    {'LOWER':'solar'}, \n",
    "    {'LOWER': 'power'}\n",
    "])\n",
    "\n",
    "matcher.add('SolarPower', patterns)\n",
    "\n",
    "string = u'The Solar Power industry continues to grow as solarpower increases. Solar-power is amazing.'\n",
    "doc = nlp(string)\n",
    "\n",
    "matches = matcher(doc)\n",
    "\n",
    "print(matches)\n",
    "pd.DataFrame(matches, columns=['match', 'start', 'stop'])"
   ]
  },
  {
   "cell_type": "code",
   "execution_count": 3,
   "metadata": {},
   "outputs": [
    {
     "name": "stdout",
     "output_type": "stream",
     "text": [
      "[(8656102463236116519, 0, 3), (8656102463236116519, 4, 5)]\n"
     ]
    },
    {
     "data": {
      "text/html": [
       "<div>\n",
       "<style scoped>\n",
       "    .dataframe tbody tr th:only-of-type {\n",
       "        vertical-align: middle;\n",
       "    }\n",
       "\n",
       "    .dataframe tbody tr th {\n",
       "        vertical-align: top;\n",
       "    }\n",
       "\n",
       "    .dataframe thead th {\n",
       "        text-align: right;\n",
       "    }\n",
       "</style>\n",
       "<table border=\"1\" class=\"dataframe\">\n",
       "  <thead>\n",
       "    <tr style=\"text-align: right;\">\n",
       "      <th></th>\n",
       "      <th>match</th>\n",
       "      <th>start</th>\n",
       "      <th>stop</th>\n",
       "    </tr>\n",
       "  </thead>\n",
       "  <tbody>\n",
       "    <tr>\n",
       "      <th>0</th>\n",
       "      <td>8656102463236116519</td>\n",
       "      <td>0</td>\n",
       "      <td>3</td>\n",
       "    </tr>\n",
       "    <tr>\n",
       "      <th>1</th>\n",
       "      <td>8656102463236116519</td>\n",
       "      <td>4</td>\n",
       "      <td>5</td>\n",
       "    </tr>\n",
       "  </tbody>\n",
       "</table>\n",
       "</div>"
      ],
      "text/plain": [
       "                 match  start  stop\n",
       "0  8656102463236116519      0     3\n",
       "1  8656102463236116519      4     5"
      ]
     },
     "execution_count": 3,
     "metadata": {},
     "output_type": "execute_result"
    }
   ],
   "source": [
    "matcher = Matcher(nlp.vocab)\n",
    "\n",
    "patterns = []\n",
    "\n",
    "patterns.append([\n",
    "    {'LOWER': 'solarpower'},\n",
    "])\n",
    "patterns.append([\n",
    "    {'LOWER': 'solar'},\n",
    "    {'IS_PUNCT': True, 'OP': '*'},\n",
    "    {'LOWER': 'power'},\n",
    "])\n",
    "\n",
    "matcher.add('SolarPower', patterns)\n",
    "\n",
    "doc = nlp(u'Solar--power is solarpower, yeah.')\n",
    "\n",
    "matches = matcher(doc)\n",
    "\n",
    "print(matches)\n",
    "pd.DataFrame(matches, columns=['match', 'start', 'stop'])"
   ]
  },
  {
   "attachments": {},
   "cell_type": "markdown",
   "metadata": {},
   "source": [
    "# Phrase Matching "
   ]
  },
  {
   "cell_type": "code",
   "execution_count": 8,
   "metadata": {},
   "outputs": [],
   "source": [
    "from spacy.matcher import PhraseMatcher\n",
    "nlp = spacy.load('en_core_web_sm')"
   ]
  },
  {
   "cell_type": "code",
   "execution_count": 13,
   "metadata": {},
   "outputs": [
    {
     "data": {
      "text/plain": [
       "[(3680293220734633682, 41, 45),\n",
       " (3680293220734633682, 49, 53),\n",
       " (3680293220734633682, 54, 56),\n",
       " (3680293220734633682, 61, 65),\n",
       " (3680293220734633682, 673, 677),\n",
       " (3680293220734633682, 2987, 2991)]"
      ]
     },
     "execution_count": 13,
     "metadata": {},
     "output_type": "execute_result"
    }
   ],
   "source": [
    "matcher = PhraseMatcher(nlp.vocab)\n",
    "\n",
    "with open('reaganomics.txt') as f:\n",
    "    doc = nlp(f.read())\n",
    "\n",
    "phrases = [\n",
    "    'voodoo economics', \n",
    "    'supply-side economics',\n",
    "    'trickle-down economics', \n",
    "    'free-market economics',\n",
    "]\n",
    "\n",
    "patterns = [nlp(text) for text in phrases]\n",
    "\n",
    "matcher.add('EconMatcher', patterns)\n",
    "\n",
    "matches = matcher(doc)\n",
    "\n",
    "matches"
   ]
  },
  {
   "cell_type": "code",
   "execution_count": 15,
   "metadata": {},
   "outputs": [
    {
     "name": "stdout",
     "output_type": "stream",
     "text": [
      "EconMatcher 3680293220734633682 41 45 supply-side economics\n",
      "EconMatcher 3680293220734633682 49 53 trickle-down economics\n",
      "EconMatcher 3680293220734633682 54 56 voodoo economics\n",
      "EconMatcher 3680293220734633682 61 65 free-market economics\n",
      "EconMatcher 3680293220734633682 673 677 supply-side economics\n",
      "EconMatcher 3680293220734633682 2987 2991 trickle-down economics\n"
     ]
    }
   ],
   "source": [
    "for match_id, start, end in matches:\n",
    "    matcher_name = nlp.vocab.strings[match_id]\n",
    "    span = doc[start:end]\n",
    "    print( matcher_name, match_id, start, end, span.text)"
   ]
  },
  {
   "cell_type": "code",
   "execution_count": null,
   "metadata": {},
   "outputs": [],
   "source": []
  }
 ],
 "metadata": {
  "kernelspec": {
   "display_name": "Python 3",
   "language": "python",
   "name": "python3"
  },
  "language_info": {
   "codemirror_mode": {
    "name": "ipython",
    "version": 3
   },
   "file_extension": ".py",
   "mimetype": "text/x-python",
   "name": "python",
   "nbconvert_exporter": "python",
   "pygments_lexer": "ipython3",
   "version": "3.10.11"
  },
  "orig_nbformat": 4
 },
 "nbformat": 4,
 "nbformat_minor": 2
}
